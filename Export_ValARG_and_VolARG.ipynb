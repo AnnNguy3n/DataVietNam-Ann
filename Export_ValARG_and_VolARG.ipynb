{
 "cells": [
  {
   "cell_type": "code",
   "execution_count": null,
   "id": "2b7d7150",
   "metadata": {},
   "outputs": [],
   "source": [
    "from VAR_GLOBAL_CONFIG import FOLDER_DATALAKE, END_DAY_UPDATE\n",
    "import pandas as pd\n",
    "from datetime import datetime, timedelta\n",
    "from tqdm import tqdm\n",
    "\n",
    "DATE_FORMAT = \"%Y-%m-%d\"\n",
    "\n",
    "# Xét từ END_DAY_UPDATE trở về trước để lấy số ngày có giao dịch, từ đó tính trung bình\n",
    "# ValARG và VolARG\n",
    "MAX_DATE_COUNT_ARG = 30\n",
    "\n",
    "# Số ngày tối thiểu có giao dịch, nếu số ngày ít hơn thì cho = 0\n",
    "MIN_DATE_COUNT_ARG = 7\n",
    "\n",
    "df_ARG = pd.read_csv(f\"{FOLDER_DATALAKE}/Raw_VIS/{END_DAY_UPDATE}/VALUE_ARG.csv\")\n",
    "start_date = (datetime.strptime(END_DAY_UPDATE, DATE_FORMAT) - timedelta(MAX_DATE_COUNT_ARG)).strftime(DATE_FORMAT)\n",
    "\n",
    "print(start_date, END_DAY_UPDATE)"
   ]
  },
  {
   "cell_type": "code",
   "execution_count": null,
   "id": "4948b3fa",
   "metadata": {},
   "outputs": [],
   "source": [
    "ValARG_and_VolARG = []\n",
    "for symbol in tqdm(df_ARG[\"Symbol\"].unique()):\n",
    "    df = df_ARG[(df_ARG[\"Symbol\"] == symbol)\n",
    "                & (df_ARG[\"Time\"] <= END_DAY_UPDATE)\n",
    "                & (df_ARG[\"Time\"] >= start_date)].reset_index(drop=True)\n",
    "    if len(df) >= MIN_DATE_COUNT_ARG:\n",
    "        ValARG_and_VolARG.append((\n",
    "            symbol,\n",
    "            df[\"ValueTrading\"].mean(),\n",
    "            df[\"VolumeTrading\"].mean()\n",
    "        ))\n",
    "\n",
    "ValARG_and_VolARG = pd.DataFrame(ValARG_and_VolARG, columns=[\"Symbol\", \"ValueARG\", \"VolumeARG\"])\n",
    "ValARG_and_VolARG"
   ]
  }
 ],
 "metadata": {
  "kernelspec": {
   "display_name": "Python 3",
   "language": "python",
   "name": "python3"
  },
  "language_info": {
   "codemirror_mode": {
    "name": "ipython",
    "version": 3
   },
   "file_extension": ".py",
   "mimetype": "text/x-python",
   "name": "python",
   "nbconvert_exporter": "python",
   "pygments_lexer": "ipython3",
   "version": "3.10.12"
  }
 },
 "nbformat": 4,
 "nbformat_minor": 5
}
