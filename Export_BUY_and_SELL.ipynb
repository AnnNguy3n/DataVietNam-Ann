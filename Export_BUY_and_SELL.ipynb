{
 "cells": [
  {
   "cell_type": "markdown",
   "id": "3e9f7c78",
   "metadata": {},
   "source": [
    "<h1><b> PriceClose for SELL"
   ]
  },
  {
   "cell_type": "code",
   "execution_count": null,
   "id": "9f8dec59",
   "metadata": {},
   "outputs": [],
   "source": [
    "from VAR_GLOBAL_CONFIG import END_DAY_UPDATE, FOLDER_DATALAKE, START_DAY_UPDATE\n",
    "from datetime import datetime, timedelta\n",
    "import os\n",
    "import pandas as pd\n",
    "\n",
    "DATE_FORMAT = \"%Y-%m-%d\"\n",
    "\n",
    "# Số ngày tối đa xét từ END_DAY_UPDATE trở về trước để tính giá đóng cửa\n",
    "MAX_DATE = 10\n",
    "\n",
    "# Ngày bắt đầu lấy dividend (kết thúc dividend ở END_DAY_UPDATE)\n",
    "START_DATE_DIVIDEND = START_DAY_UPDATE\n",
    "\n",
    "print(START_DATE_DIVIDEND, END_DAY_UPDATE)\n",
    "\n",
    "# Dien chinh xac Start_date_dividend va End_day_update"
   ]
  },
  {
   "cell_type": "code",
   "execution_count": null,
   "id": "31d2e1b1",
   "metadata": {},
   "outputs": [],
   "source": [
    "start_date = (datetime.strptime(END_DAY_UPDATE, DATE_FORMAT) - timedelta(MAX_DATE)).strftime(DATE_FORMAT)\n",
    "\n",
    "SYMBOL = pd.read_csv(f\"{FOLDER_DATALAKE}/Raw_VIS/{END_DAY_UPDATE}/List_company.csv\")[\"Mã CK▲\"].to_list()\n",
    "PriceCloseForSell = []\n",
    "\n",
    "for symbol in SYMBOL:\n",
    "    try:\n",
    "        df = pd.read_csv(f\"{FOLDER_DATALAKE}/Raw_VIS/{END_DAY_UPDATE}/Close/CafeF/F0/{symbol}.csv\")\n",
    "        df[\"Ngay\"] = pd.to_datetime(df[\"Ngay\"], format=\"%d/%m/%Y\").dt.strftime(DATE_FORMAT)\n",
    "        df = df[(df[\"Ngay\"] <= END_DAY_UPDATE) & (df[\"Ngay\"] >= start_date)]\n",
    "        if len(df) > 0:\n",
    "            PriceCloseForSell.append((symbol, float(df.iloc[0][\"GiaDongCua\"])))\n",
    "        else:\n",
    "            PriceCloseForSell.append((symbol, 0.0))\n",
    "    except Exception as ex:\n",
    "        PriceCloseForSell.append((symbol, 0.0))\n",
    "        print(symbol, ex.args)\n",
    "\n",
    "PriceCloseForSell = pd.DataFrame(PriceCloseForSell, columns=[\"Symbol\", \"Close\"])\n",
    "PriceCloseForSell.set_index(\"Symbol\", inplace=True)\n",
    "PriceCloseForSell"
   ]
  },
  {
   "cell_type": "markdown",
   "id": "75b86948",
   "metadata": {},
   "source": [
    "<h1><b> Combine DIVIDEND"
   ]
  },
  {
   "cell_type": "code",
   "execution_count": null,
   "id": "98e9e804",
   "metadata": {},
   "outputs": [],
   "source": [
    "DIVIDEND = pd.read_excel(f\"{FOLDER_DATALAKE}/Raw_VIS/{END_DAY_UPDATE}/DIVIDEND.xlsx\")\n",
    "\n",
    "\n",
    "def get_SELL(symbol):\n",
    "    close = PriceCloseForSell.loc[symbol, \"Close\"]\n",
    "    dividend = DIVIDEND[(DIVIDEND[\"Symbol\"] == symbol)\n",
    "                        & (DIVIDEND[\"Time\"] <= END_DAY_UPDATE)\n",
    "                        & (DIVIDEND[\"Time\"] >= START_DATE_DIVIDEND)].reset_index(drop=True)\n",
    "    if len(dividend) == 0:\n",
    "        return close\n",
    "\n",
    "    sum = 0.0\n",
    "    cp = 1\n",
    "    for i in range(len(dividend)):\n",
    "        if dividend.loc[i, \"Money\"] != \"NAN\":\n",
    "            tyle = dividend.loc[i, \"Money\"]\n",
    "            sum += cp * 10.0 * eval(tyle)\n",
    "        if dividend.loc[i, \"Stock\"] != \"NAN\":\n",
    "            tyle = dividend.loc[i, \"Stock\"]\n",
    "            cp = cp * 1.0 / eval(tyle) + cp\n",
    "\n",
    "    return close * cp + sum\n",
    "\n",
    "PriceCloseForSell[\"SELL\"] = pd.NA\n",
    "for symbol in PriceCloseForSell.index:\n",
    "    PriceCloseForSell.loc[symbol, \"SELL\"] = get_SELL(symbol)\n",
    "PriceCloseForSell"
   ]
  },
  {
   "cell_type": "markdown",
   "id": "58fc49ef",
   "metadata": {},
   "source": [
    "<h1><b> BUY"
   ]
  },
  {
   "cell_type": "code",
   "execution_count": null,
   "id": "a06c4285",
   "metadata": {},
   "outputs": [],
   "source": [
    "# Cũng lấy các tham số từ VAR_GLOBAL_CONFIG nhưng chạy ở thời điểm sau khi lấy SELL\n",
    "from VAR_GLOBAL_CONFIG import END_DAY_UPDATE, FOLDER_DATALAKE\n",
    "import pandas as pd\n",
    "\n",
    "DATE_FORMAT = \"%Y-%m-%d\"\n",
    "\n",
    "print(END_DAY_UPDATE)"
   ]
  },
  {
   "cell_type": "code",
   "execution_count": null,
   "id": "abfb5a94",
   "metadata": {},
   "outputs": [],
   "source": [
    "SYMBOL = pd.read_csv(f\"{FOLDER_DATALAKE}/Raw_VIS/{END_DAY_UPDATE}/List_company.csv\")[\"Mã CK▲\"].to_list()\n",
    "PriceCloseForBUY = []\n",
    "\n",
    "for symbol in SYMBOL:\n",
    "    try:\n",
    "        df = pd.read_csv(f\"{FOLDER_DATALAKE}/Raw_VIS/{END_DAY_UPDATE}/Close/CafeF/F0/{symbol}.csv\")\n",
    "        df[\"Ngay\"] = pd.to_datetime(df[\"Ngay\"], format=\"%d/%m/%Y\").dt.strftime(DATE_FORMAT)\n",
    "        df = df[(df[\"Ngay\"] == END_DAY_UPDATE)]\n",
    "        if len(df) > 0:\n",
    "            PriceCloseForBUY.append((symbol, float(df.iloc[0][\"GiaDongCua\"])))\n",
    "        else:\n",
    "            PriceCloseForBUY.append((symbol, 0.0))\n",
    "    except Exception as ex:\n",
    "        PriceCloseForBUY.append((symbol, 0.0))\n",
    "        print(symbol, ex.args)\n",
    "\n",
    "PriceCloseForBUY = pd.DataFrame(PriceCloseForBUY, columns=[\"Symbol\", \"Close\"])\n",
    "PriceCloseForBUY"
   ]
  }
 ],
 "metadata": {
  "kernelspec": {
   "display_name": "Python 3",
   "language": "python",
   "name": "python3"
  },
  "language_info": {
   "codemirror_mode": {
    "name": "ipython",
    "version": 3
   },
   "file_extension": ".py",
   "mimetype": "text/x-python",
   "name": "python",
   "nbconvert_exporter": "python",
   "pygments_lexer": "ipython3",
   "version": "3.10.12"
  }
 },
 "nbformat": 4,
 "nbformat_minor": 5
}
